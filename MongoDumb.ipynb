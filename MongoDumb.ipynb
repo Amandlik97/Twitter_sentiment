{
 "cells": [
  {
   "cell_type": "code",
   "execution_count": null,
   "metadata": {},
   "outputs": [],
   "source": [
    "from __future__ import print_function\n",
    "import tweepy\n",
    "import json\n",
    "from pymongo import MongoClient"
   ]
  },
  {
   "cell_type": "code",
   "execution_count": null,
   "metadata": {},
   "outputs": [],
   "source": [
    "MONGO_HOST= 'mongodb://localhost:27017/NewDB1'"
   ]
  },
  {
   "cell_type": "code",
   "execution_count": null,
   "metadata": {},
   "outputs": [],
   "source": [
    "keyword= ['kgf']"
   ]
  },
  {
   "cell_type": "code",
   "execution_count": null,
   "metadata": {},
   "outputs": [],
   "source": [
    "CONSUMER_KEY = \"RypXjrk93ZG2U3469jXUamJTh\"\n",
    "CONSUMER_SECRET = \"CnFoLTOkmcIxPEjQLTbF46F7VL7a55yz7jYlDaNQhv1flYyguJ\"\n",
    "ACCESS_TOKEN = \"1348690076918804481-9WhsSBaW1QWjeP8xTUVEQrzJZkwNNG\"\n",
    "ACCESS_TOKEN_SECRET = \"JOghZUTSQLXLOkLobduVvHNnrsPtInuWZrgGPwpMhUc1R\""
   ]
  },
  {
   "cell_type": "code",
   "execution_count": null,
   "metadata": {},
   "outputs": [],
   "source": [
    "class StreamListener(tweepy.StreamListener):\n",
    "    def on_data(self, data):\n",
    "        try:  \n",
    "            msg = json.loads( data )\n",
    "            client = MongoClient(MONGO_HOST)\n",
    "            db = client.NewDB1\n",
    "            # Decode the JSON from Twitter\n",
    "            #print(\"new message\")\n",
    "            if \"extended_tweet\" in msg:\n",
    "                # add at the end of each tweet \"t_end\" \n",
    "                datajson=(msg['extended_tweet']['full_text']+\"t_end\")\n",
    "                dataj = {'VIN' : datajson}\n",
    "                print(type(dataj))\n",
    "                db.Dummy.save(dataj)       \n",
    "               # print(msg['extended_tweet']['full_text'])\n",
    "            else:\n",
    "                # add at the end of each tweet \"t_end\" \n",
    "                datajson=str(msg['text']+\"t_end\")\n",
    "                dataj = {'VIN' : datajson}\n",
    "                db.Dummy.save(dataj)\n",
    "                #print(msg['text'])\n",
    "                return True\n",
    "        except BaseException as e:\n",
    "            print(\"Error on_data: %s\" % str(e))\n",
    "        return True\n",
    "    def on_error(self, status):\n",
    "        print(status)\n",
    "        return True"
   ]
  },
  {
   "cell_type": "code",
   "execution_count": null,
   "metadata": {},
   "outputs": [],
   "source": [
    "auth = tweepy.OAuthHandler(CONSUMER_KEY, CONSUMER_SECRET)\n",
    "auth.set_access_token(ACCESS_TOKEN, ACCESS_TOKEN_SECRET)\n",
    "#Set up the listener. The 'wait_on_rate_limit=True' is needed to help with Twitter API rate limiting.\n",
    "listener = StreamListener(api=tweepy.API(wait_on_rate_limit=True)) \n",
    "streamer = tweepy.Stream(auth=auth, listener=listener)\n",
    "print(\"Tracking: \" + str(keyword))\n",
    "streamer.filter(track = keyword, languages=[\"en\"])"
   ]
  }
 ],
 "metadata": {
  "kernelspec": {
   "display_name": "Python 3",
   "language": "python",
   "name": "python3"
  },
  "language_info": {
   "codemirror_mode": {
    "name": "ipython",
    "version": 3
   },
   "file_extension": ".py",
   "mimetype": "text/x-python",
   "name": "python",
   "nbconvert_exporter": "python",
   "pygments_lexer": "ipython3",
   "version": "3.7.0"
  }
 },
 "nbformat": 4,
 "nbformat_minor": 4
}
